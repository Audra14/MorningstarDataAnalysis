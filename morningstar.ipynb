{
 "cells": [
  {
   "cell_type": "code",
   "execution_count": null,
   "metadata": {},
   "outputs": [],
   "source": [
    "import pandas as pd"
   ]
  },
  {
   "cell_type": "code",
   "execution_count": null,
   "metadata": {},
   "outputs": [],
   "source": [
    "#MORNINGSTAR DATA from csv\n",
    "morningstar_file = 'PRD_PFE_20180521.csv'"
   ]
  },
  {
   "cell_type": "code",
   "execution_count": null,
   "metadata": {},
   "outputs": [],
   "source": [
    "#create pandas dataframe from the csv data\n",
    "morningstar_df = pd.read_csv(morningstar_file)"
   ]
  },
  {
   "cell_type": "code",
   "execution_count": null,
   "metadata": {},
   "outputs": [],
   "source": [
    "#Let's view the columns in the morningstar dataframe\n",
    "print(morningstar_df.columns) # Note column name CategoryCode"
   ]
  },
  {
   "cell_type": "code",
   "execution_count": null,
   "metadata": {},
   "outputs": [],
   "source": [
    "#Let's reduce the data to only a few important columns\n",
    "#Vanguard Group Inc\n",
    "cols_to_keep = ['FundStandardName', 'AdvisoryCompanyName', 'EstShareClassNetFlow1MoMoEnd', 'EstShareClassNetFlowDateMoEnd', 'CategoryCode', 'IndexFund']"
   ]
  },
  {
   "cell_type": "code",
   "execution_count": null,
   "metadata": {},
   "outputs": [],
   "source": [
    "morningstar_df = morningstar_df[cols_to_keep]\n",
    "\n",
    "print(morningstar_df.columns)\n",
    "print(morningstar_df.head())"
   ]
  },
  {
   "cell_type": "code",
   "execution_count": null,
   "metadata": {},
   "outputs": [],
   "source": [
    "#We need to get the data that is associated with large blend category, index fund = true, and is Vanguard\n",
    "#This is the category code that is assocated with large blend \n",
    "large_blend_cc = '$FOCA$LB$$'"
   ]
  },
  {
   "cell_type": "code",
   "execution_count": null,
   "metadata": {},
   "outputs": [],
   "source": [
    "#Query the dataframe! \n",
    "query_clause1 = morningstar_df['CategoryCode'] == large_blend_cc\n",
    "query_clause2 = morningstar_df['IndexFund'] == True\n",
    "query_clause3 = morningstar_df['AdvisoryCompanyName'] == 'Vanguard Group Inc'\n",
    "\n",
    "df = morningstar_df[(query_clause1) & (query_clause2) & (query_clause3)]\n",
    "print(df)"
   ]
  },
  {
   "cell_type": "code",
   "execution_count": null,
   "metadata": {},
   "outputs": [],
   "source": [
    "\n",
    "#Now we have all the values we need! - Next is to calculate total cash flow\n",
    "#The EstShareClassNetFlow1MoMoEnd column is in string format - need to convert to float \n",
    "net_flows = df['EstShareClassNetFlow1MoMoEnd'].astype(float)\n",
    "total_cash_flow = net_flows.sum()\n",
    "print(total_cash_flow)\n",
    "\n",
    "#That output is ugly...let's fix it\n",
    "print('${:,.2f}'.format(total_cash_flow))"
   ]
  }
 ],
 "metadata": {
  "kernelspec": {
   "display_name": "Python 3",
   "language": "python",
   "name": "python3"
  },
  "language_info": {
   "codemirror_mode": {
    "name": "ipython",
    "version": 3
   },
   "file_extension": ".py",
   "mimetype": "text/x-python",
   "name": "python",
   "nbconvert_exporter": "python",
   "pygments_lexer": "ipython3",
   "version": "3.6.5"
  }
 },
 "nbformat": 4,
 "nbformat_minor": 2
}
